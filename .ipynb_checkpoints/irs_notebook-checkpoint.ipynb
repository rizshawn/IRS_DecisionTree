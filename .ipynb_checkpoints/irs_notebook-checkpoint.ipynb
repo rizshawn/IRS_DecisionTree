{
 "cells": [
  {
   "cell_type": "code",
   "execution_count": 2,
   "metadata": {},
   "outputs": [],
   "source": [
    "import pandas as pd\n",
    "import matplotlib.pyplot as plt\n",
    "import numpy as np"
   ]
  },
  {
   "cell_type": "code",
   "execution_count": 3,
   "metadata": {},
   "outputs": [],
   "source": [
    "#Read in the CSV files\n",
    "data_2011 = pd.read_csv('Resources/11zpallagi.csv')\n",
    "data_2012 = pd.read_csv('Resources/12zpallagi.csv')\n",
    "data_2013 = pd.read_csv('Resources/13zpallagi.csv')\n",
    "data_2014 = pd.read_csv('Resources/14zpallagi.csv')\n",
    "data_2015 = pd.read_csv('Resources/15zpallagi.csv')\n",
    "data_2016 = pd.read_csv('Resources/16zpallagi.csv')\n",
    "data_2017 = pd.read_csv('Resources/17zpallagi.csv')"
   ]
  },
  {
   "cell_type": "code",
   "execution_count": 4,
   "metadata": {},
   "outputs": [
    {
     "data": {
      "text/html": [
       "<div>\n",
       "<style scoped>\n",
       "    .dataframe tbody tr th:only-of-type {\n",
       "        vertical-align: middle;\n",
       "    }\n",
       "\n",
       "    .dataframe tbody tr th {\n",
       "        vertical-align: top;\n",
       "    }\n",
       "\n",
       "    .dataframe thead th {\n",
       "        text-align: right;\n",
       "    }\n",
       "</style>\n",
       "<table border=\"1\" class=\"dataframe\">\n",
       "  <thead>\n",
       "    <tr style=\"text-align: right;\">\n",
       "      <th></th>\n",
       "      <th>STATEFIPS</th>\n",
       "      <th>STATE</th>\n",
       "      <th>ZIPCODE</th>\n",
       "      <th>agi_stub</th>\n",
       "      <th>N1</th>\n",
       "      <th>MARS2</th>\n",
       "      <th>PREP</th>\n",
       "      <th>N2</th>\n",
       "      <th>NUMDEP</th>\n",
       "      <th>A00100</th>\n",
       "      <th>...</th>\n",
       "      <th>N09600</th>\n",
       "      <th>A09600</th>\n",
       "      <th>N06500</th>\n",
       "      <th>A06500</th>\n",
       "      <th>N10300</th>\n",
       "      <th>A10300</th>\n",
       "      <th>N11901</th>\n",
       "      <th>A11901</th>\n",
       "      <th>N11902</th>\n",
       "      <th>A11902</th>\n",
       "    </tr>\n",
       "  </thead>\n",
       "  <tbody>\n",
       "    <tr>\n",
       "      <th>0</th>\n",
       "      <td>1</td>\n",
       "      <td>AL</td>\n",
       "      <td>0</td>\n",
       "      <td>1</td>\n",
       "      <td>937299.0</td>\n",
       "      <td>136038.0</td>\n",
       "      <td>547355.0</td>\n",
       "      <td>1602192.0</td>\n",
       "      <td>644217.0</td>\n",
       "      <td>12086376.0</td>\n",
       "      <td>...</td>\n",
       "      <td>157.0</td>\n",
       "      <td>18.0</td>\n",
       "      <td>281321.0</td>\n",
       "      <td>177828.0</td>\n",
       "      <td>406030.0</td>\n",
       "      <td>329354.0</td>\n",
       "      <td>61257.0</td>\n",
       "      <td>40871.0</td>\n",
       "      <td>829761.0</td>\n",
       "      <td>2196173.0</td>\n",
       "    </tr>\n",
       "    <tr>\n",
       "      <th>1</th>\n",
       "      <td>1</td>\n",
       "      <td>AL</td>\n",
       "      <td>0</td>\n",
       "      <td>2</td>\n",
       "      <td>495266.0</td>\n",
       "      <td>163878.0</td>\n",
       "      <td>294584.0</td>\n",
       "      <td>1060682.0</td>\n",
       "      <td>402748.0</td>\n",
       "      <td>17752967.0</td>\n",
       "      <td>...</td>\n",
       "      <td>96.0</td>\n",
       "      <td>23.0</td>\n",
       "      <td>368302.0</td>\n",
       "      <td>857023.0</td>\n",
       "      <td>387527.0</td>\n",
       "      <td>939484.0</td>\n",
       "      <td>62697.0</td>\n",
       "      <td>87219.0</td>\n",
       "      <td>424697.0</td>\n",
       "      <td>1233227.0</td>\n",
       "    </tr>\n",
       "  </tbody>\n",
       "</table>\n",
       "<p>2 rows × 73 columns</p>\n",
       "</div>"
      ],
      "text/plain": [
       "   STATEFIPS STATE  ZIPCODE  agi_stub        N1     MARS2      PREP  \\\n",
       "0          1    AL        0         1  937299.0  136038.0  547355.0   \n",
       "1          1    AL        0         2  495266.0  163878.0  294584.0   \n",
       "\n",
       "          N2    NUMDEP      A00100  ...  N09600  A09600    N06500    A06500  \\\n",
       "0  1602192.0  644217.0  12086376.0  ...   157.0    18.0  281321.0  177828.0   \n",
       "1  1060682.0  402748.0  17752967.0  ...    96.0    23.0  368302.0  857023.0   \n",
       "\n",
       "     N10300    A10300   N11901   A11901    N11902     A11902  \n",
       "0  406030.0  329354.0  61257.0  40871.0  829761.0  2196173.0  \n",
       "1  387527.0  939484.0  62697.0  87219.0  424697.0  1233227.0  \n",
       "\n",
       "[2 rows x 73 columns]"
      ]
     },
     "execution_count": 4,
     "metadata": {},
     "output_type": "execute_result"
    }
   ],
   "source": [
    "#explore headers\n",
    "data_2011.head(2)"
   ]
  },
  {
   "cell_type": "code",
   "execution_count": 5,
   "metadata": {},
   "outputs": [],
   "source": [
    "#Filter headers\n",
    "data_2011 = data_2011[['STATE','ZIPCODE','MARS2','NUMDEP','A00650','A04470','A18425','A00200']]\n",
    "data_2012 = data_2012[['STATE','zipcode','MARS2','NUMDEP','A00650','A04470','A18425','A00200']]\n",
    "data_2013 = data_2013[['STATE','zipcode','MARS2','NUMDEP','A00650','A04470','A18425','A00200']]\n",
    "data_2014 = data_2014[['STATE','zipcode','MARS2','NUMDEP','A00650','A04470','A18425','A00200']]\n",
    "data_2015 = data_2015[['STATE','zipcode','MARS2','NUMDEP','A00650','A04470','A18425','A00200']]\n",
    "data_2016 = data_2016[['STATE','zipcode','MARS2','NUMDEP','A00650','A04470','A18425','A00200']]\n",
    "data_2017 = data_2017[['STATE','zipcode','MARS2','NUMDEP','A00650','A04470','A18425','A00200']]"
   ]
  },
  {
   "cell_type": "code",
   "execution_count": 6,
   "metadata": {},
   "outputs": [
    {
     "data": {
      "text/html": [
       "<div>\n",
       "<style scoped>\n",
       "    .dataframe tbody tr th:only-of-type {\n",
       "        vertical-align: middle;\n",
       "    }\n",
       "\n",
       "    .dataframe tbody tr th {\n",
       "        vertical-align: top;\n",
       "    }\n",
       "\n",
       "    .dataframe thead th {\n",
       "        text-align: right;\n",
       "    }\n",
       "</style>\n",
       "<table border=\"1\" class=\"dataframe\">\n",
       "  <thead>\n",
       "    <tr style=\"text-align: right;\">\n",
       "      <th></th>\n",
       "      <th>STATE</th>\n",
       "      <th>ZIPCODE</th>\n",
       "      <th>MARS2</th>\n",
       "      <th>NUMDEP</th>\n",
       "      <th>A00650</th>\n",
       "      <th>A04470</th>\n",
       "      <th>A18425</th>\n",
       "      <th>A00200</th>\n",
       "    </tr>\n",
       "  </thead>\n",
       "  <tbody>\n",
       "    <tr>\n",
       "      <th>0</th>\n",
       "      <td>AL</td>\n",
       "      <td>0</td>\n",
       "      <td>136038.0</td>\n",
       "      <td>644217.0</td>\n",
       "      <td>61464.0</td>\n",
       "      <td>942223.0</td>\n",
       "      <td>29197.0</td>\n",
       "      <td>9305221.0</td>\n",
       "    </tr>\n",
       "    <tr>\n",
       "      <th>1</th>\n",
       "      <td>AL</td>\n",
       "      <td>0</td>\n",
       "      <td>163878.0</td>\n",
       "      <td>402748.0</td>\n",
       "      <td>75968.0</td>\n",
       "      <td>1969326.0</td>\n",
       "      <td>163841.0</td>\n",
       "      <td>14511884.0</td>\n",
       "    </tr>\n",
       "  </tbody>\n",
       "</table>\n",
       "</div>"
      ],
      "text/plain": [
       "  STATE  ZIPCODE     MARS2    NUMDEP   A00650     A04470    A18425      A00200\n",
       "0    AL        0  136038.0  644217.0  61464.0   942223.0   29197.0   9305221.0\n",
       "1    AL        0  163878.0  402748.0  75968.0  1969326.0  163841.0  14511884.0"
      ]
     },
     "execution_count": 6,
     "metadata": {},
     "output_type": "execute_result"
    }
   ],
   "source": [
    "data_2011.head(2)"
   ]
  },
  {
   "cell_type": "code",
   "execution_count": 7,
   "metadata": {},
   "outputs": [],
   "source": [
    "#Rename headers\n",
    "renamed_2011 = data_2011.rename(columns={'MARS2':'Joint Returns','NUMDEP':'Dependents','A00650': 'Qualified Dividends','A04470': 'Total Itemized Deductions','A18425': 'State & Local Tax Amount','A00200':'Salaries & Wages Amount'})\n",
    "renamed_2012 = data_2012.rename(columns={'zipcode':'ZIPCODE','MARS2':'Joint Returns','NUMDEP':'Dependents','A00650': 'Qualified Dividends','A04470': 'Total Itemized Deductions','A18425': 'State & Local Tax Amount','A00200':'Salaries & Wages Amount'})\n",
    "renamed_2013 = data_2013.rename(columns={'zipcode':'ZIPCODE','MARS2':'Joint Returns','NUMDEP':'Dependents','A00650': 'Qualified Dividends','A04470': 'Total Itemized Deductions','A18425': 'State & Local Tax Amount','A00200':'Salaries & Wages Amount'})\n",
    "renamed_2014 = data_2014.rename(columns={'zipcode':'ZIPCODE','MARS2':'Joint Returns','NUMDEP':'Dependents','A00650': 'Qualified Dividends','A04470': 'Total Itemized Deductions','A18425': 'State & Local Tax Amount','A00200':'Salaries & Wages Amount'})\n",
    "renamed_2015 = data_2015.rename(columns={'zipcode':'ZIPCODE','MARS2':'Joint Returns','NUMDEP':'Dependents','A00650': 'Qualified Dividends','A04470': 'Total Itemized Deductions','A18425': 'State & Local Tax Amount','A00200':'Salaries & Wages Amount'})\n",
    "renamed_2016 = data_2016.rename(columns={'zipcode':'ZIPCODE','MARS2':'Joint Returns','NUMDEP':'Dependents','A00650': 'Qualified Dividends','A04470': 'Total Itemized Deductions','A18425': 'State & Local Tax Amount','A00200':'Salaries & Wages Amount'})\n",
    "renamed_2017 = data_2017.rename(columns={'zipcode':'ZIPCODE','MARS2':'Joint Returns','NUMDEP':'Dependents','A00650': 'Qualified Dividends','A04470': 'Total Itemized Deductions','A18425': 'State & Local Tax Amount','A00200':'Salaries & Wages Amount'})\n"
   ]
  },
  {
   "cell_type": "code",
   "execution_count": 8,
   "metadata": {},
   "outputs": [
    {
     "data": {
      "text/html": [
       "<div>\n",
       "<style scoped>\n",
       "    .dataframe tbody tr th:only-of-type {\n",
       "        vertical-align: middle;\n",
       "    }\n",
       "\n",
       "    .dataframe tbody tr th {\n",
       "        vertical-align: top;\n",
       "    }\n",
       "\n",
       "    .dataframe thead th {\n",
       "        text-align: right;\n",
       "    }\n",
       "</style>\n",
       "<table border=\"1\" class=\"dataframe\">\n",
       "  <thead>\n",
       "    <tr style=\"text-align: right;\">\n",
       "      <th></th>\n",
       "      <th>STATE</th>\n",
       "      <th>ZIPCODE</th>\n",
       "      <th>Joint Returns</th>\n",
       "      <th>Dependents</th>\n",
       "      <th>Qualified Dividends</th>\n",
       "      <th>Total Itemized Deductions</th>\n",
       "      <th>State &amp; Local Tax Amount</th>\n",
       "      <th>Salaries &amp; Wages Amount</th>\n",
       "    </tr>\n",
       "  </thead>\n",
       "  <tbody>\n",
       "    <tr>\n",
       "      <th>0</th>\n",
       "      <td>AL</td>\n",
       "      <td>0</td>\n",
       "      <td>136038.0</td>\n",
       "      <td>644217.0</td>\n",
       "      <td>61464.0</td>\n",
       "      <td>942223.0</td>\n",
       "      <td>29197.0</td>\n",
       "      <td>9305221.0</td>\n",
       "    </tr>\n",
       "    <tr>\n",
       "      <th>1</th>\n",
       "      <td>AL</td>\n",
       "      <td>0</td>\n",
       "      <td>163878.0</td>\n",
       "      <td>402748.0</td>\n",
       "      <td>75968.0</td>\n",
       "      <td>1969326.0</td>\n",
       "      <td>163841.0</td>\n",
       "      <td>14511884.0</td>\n",
       "    </tr>\n",
       "  </tbody>\n",
       "</table>\n",
       "</div>"
      ],
      "text/plain": [
       "  STATE  ZIPCODE  Joint Returns  Dependents  Qualified Dividends  \\\n",
       "0    AL        0       136038.0    644217.0              61464.0   \n",
       "1    AL        0       163878.0    402748.0              75968.0   \n",
       "\n",
       "   Total Itemized Deductions  State & Local Tax Amount  \\\n",
       "0                   942223.0                   29197.0   \n",
       "1                  1969326.0                  163841.0   \n",
       "\n",
       "   Salaries & Wages Amount  \n",
       "0                9305221.0  \n",
       "1               14511884.0  "
      ]
     },
     "execution_count": 8,
     "metadata": {},
     "output_type": "execute_result"
    }
   ],
   "source": [
    "renamed_2011.head(2)"
   ]
  },
  {
   "cell_type": "code",
   "execution_count": null,
   "metadata": {},
   "outputs": [],
   "source": []
  },
  {
   "cell_type": "code",
   "execution_count": 9,
   "metadata": {},
   "outputs": [],
   "source": [
    "#Change index to state and zipcode\n",
    "index_2011 = renamed_2011.set_index(['STATE', 'ZIPCODE'])\n",
    "index_2012 = renamed_2012.set_index(['STATE', 'ZIPCODE'])\n",
    "index_2013 = renamed_2013.set_index(['STATE', 'ZIPCODE'])\n",
    "index_2014 = renamed_2014.set_index(['STATE', 'ZIPCODE'])\n",
    "index_2015 = renamed_2015.set_index(['STATE', 'ZIPCODE'])\n",
    "index_2016 = renamed_2016.set_index(['STATE', 'ZIPCODE'])\n",
    "index_2017 = renamed_2017.set_index(['STATE', 'ZIPCODE'])"
   ]
  },
  {
   "cell_type": "code",
   "execution_count": 10,
   "metadata": {},
   "outputs": [
    {
     "data": {
      "text/html": [
       "<div>\n",
       "<style scoped>\n",
       "    .dataframe tbody tr th:only-of-type {\n",
       "        vertical-align: middle;\n",
       "    }\n",
       "\n",
       "    .dataframe tbody tr th {\n",
       "        vertical-align: top;\n",
       "    }\n",
       "\n",
       "    .dataframe thead th {\n",
       "        text-align: right;\n",
       "    }\n",
       "</style>\n",
       "<table border=\"1\" class=\"dataframe\">\n",
       "  <thead>\n",
       "    <tr style=\"text-align: right;\">\n",
       "      <th></th>\n",
       "      <th></th>\n",
       "      <th>Joint Returns</th>\n",
       "      <th>Dependents</th>\n",
       "      <th>Qualified Dividends</th>\n",
       "      <th>Total Itemized Deductions</th>\n",
       "      <th>State &amp; Local Tax Amount</th>\n",
       "      <th>Salaries &amp; Wages Amount</th>\n",
       "    </tr>\n",
       "    <tr>\n",
       "      <th>STATE</th>\n",
       "      <th>ZIPCODE</th>\n",
       "      <th></th>\n",
       "      <th></th>\n",
       "      <th></th>\n",
       "      <th></th>\n",
       "      <th></th>\n",
       "      <th></th>\n",
       "    </tr>\n",
       "  </thead>\n",
       "  <tbody>\n",
       "    <tr>\n",
       "      <th rowspan=\"2\" valign=\"top\">AL</th>\n",
       "      <th>0</th>\n",
       "      <td>136038.0</td>\n",
       "      <td>644217.0</td>\n",
       "      <td>61464.0</td>\n",
       "      <td>942223.0</td>\n",
       "      <td>29197.0</td>\n",
       "      <td>9305221.0</td>\n",
       "    </tr>\n",
       "    <tr>\n",
       "      <th>0</th>\n",
       "      <td>163878.0</td>\n",
       "      <td>402748.0</td>\n",
       "      <td>75968.0</td>\n",
       "      <td>1969326.0</td>\n",
       "      <td>163841.0</td>\n",
       "      <td>14511884.0</td>\n",
       "    </tr>\n",
       "  </tbody>\n",
       "</table>\n",
       "</div>"
      ],
      "text/plain": [
       "               Joint Returns  Dependents  Qualified Dividends  \\\n",
       "STATE ZIPCODE                                                   \n",
       "AL    0             136038.0    644217.0              61464.0   \n",
       "      0             163878.0    402748.0              75968.0   \n",
       "\n",
       "               Total Itemized Deductions  State & Local Tax Amount  \\\n",
       "STATE ZIPCODE                                                        \n",
       "AL    0                         942223.0                   29197.0   \n",
       "      0                        1969326.0                  163841.0   \n",
       "\n",
       "               Salaries & Wages Amount  \n",
       "STATE ZIPCODE                           \n",
       "AL    0                      9305221.0  \n",
       "      0                     14511884.0  "
      ]
     },
     "execution_count": 10,
     "metadata": {},
     "output_type": "execute_result"
    }
   ],
   "source": [
    "index_2011.head(2)"
   ]
  },
  {
   "cell_type": "code",
   "execution_count": 11,
   "metadata": {},
   "outputs": [],
   "source": [
    "#Filter to only show New York\n",
    "ny_2011 = index_2011.loc[['NY']]\n",
    "ny_2012 = index_2012.loc[['NY']]\n",
    "ny_2013 = index_2013.loc[['NY']]\n",
    "ny_2014 = index_2014.loc[['NY']]\n",
    "ny_2015 = index_2015.loc[['NY']]\n",
    "ny_2016 = index_2016.loc[['NY']]\n",
    "ny_2017 = index_2017.loc[['NY']]"
   ]
  },
  {
   "cell_type": "code",
   "execution_count": 12,
   "metadata": {},
   "outputs": [],
   "source": [
    "#drop '0' and '99999' zipcodes\n",
    "clean_ny11 = ny_2011.drop(['0','99999'], level='ZIPCODE')\n",
    "clean_ny12 = ny_2012.drop(['0','99999'], level='ZIPCODE')\n",
    "clean_ny13 = ny_2013.drop(['0','99999'], level='ZIPCODE')\n",
    "clean_ny14 = ny_2014.drop(['0','99999'], level='ZIPCODE')\n",
    "clean_ny15 = ny_2015.drop(['0','99999'], level='ZIPCODE')\n",
    "clean_ny16 = ny_2016.drop(['0','99999'], level='ZIPCODE')\n",
    "clean_ny17 = ny_2017.drop(['0','99999'], level='ZIPCODE')"
   ]
  },
  {
   "cell_type": "code",
   "execution_count": 13,
   "metadata": {},
   "outputs": [
    {
     "data": {
      "text/html": [
       "<div>\n",
       "<style scoped>\n",
       "    .dataframe tbody tr th:only-of-type {\n",
       "        vertical-align: middle;\n",
       "    }\n",
       "\n",
       "    .dataframe tbody tr th {\n",
       "        vertical-align: top;\n",
       "    }\n",
       "\n",
       "    .dataframe thead th {\n",
       "        text-align: right;\n",
       "    }\n",
       "</style>\n",
       "<table border=\"1\" class=\"dataframe\">\n",
       "  <thead>\n",
       "    <tr style=\"text-align: right;\">\n",
       "      <th></th>\n",
       "      <th></th>\n",
       "      <th>Joint Returns</th>\n",
       "      <th>Dependents</th>\n",
       "      <th>Qualified Dividends</th>\n",
       "      <th>Total Itemized Deductions</th>\n",
       "      <th>State &amp; Local Tax Amount</th>\n",
       "      <th>Salaries &amp; Wages Amount</th>\n",
       "    </tr>\n",
       "    <tr>\n",
       "      <th>STATE</th>\n",
       "      <th>ZIPCODE</th>\n",
       "      <th></th>\n",
       "      <th></th>\n",
       "      <th></th>\n",
       "      <th></th>\n",
       "      <th></th>\n",
       "      <th></th>\n",
       "    </tr>\n",
       "  </thead>\n",
       "  <tbody>\n",
       "    <tr>\n",
       "      <th rowspan=\"2\" valign=\"top\">NY</th>\n",
       "      <th>10001</th>\n",
       "      <td>383.0</td>\n",
       "      <td>1078.0</td>\n",
       "      <td>992.0</td>\n",
       "      <td>6936.0</td>\n",
       "      <td>518.0</td>\n",
       "      <td>33282.0</td>\n",
       "    </tr>\n",
       "    <tr>\n",
       "      <th>10001</th>\n",
       "      <td>273.0</td>\n",
       "      <td>695.0</td>\n",
       "      <td>1253.0</td>\n",
       "      <td>9716.0</td>\n",
       "      <td>1758.0</td>\n",
       "      <td>80101.0</td>\n",
       "    </tr>\n",
       "  </tbody>\n",
       "</table>\n",
       "</div>"
      ],
      "text/plain": [
       "               Joint Returns  Dependents  Qualified Dividends  \\\n",
       "STATE ZIPCODE                                                   \n",
       "NY    10001            383.0      1078.0                992.0   \n",
       "      10001            273.0       695.0               1253.0   \n",
       "\n",
       "               Total Itemized Deductions  State & Local Tax Amount  \\\n",
       "STATE ZIPCODE                                                        \n",
       "NY    10001                       6936.0                     518.0   \n",
       "      10001                       9716.0                    1758.0   \n",
       "\n",
       "               Salaries & Wages Amount  \n",
       "STATE ZIPCODE                           \n",
       "NY    10001                    33282.0  \n",
       "      10001                    80101.0  "
      ]
     },
     "execution_count": 13,
     "metadata": {},
     "output_type": "execute_result"
    }
   ],
   "source": [
    "clean_ny11.head(2)"
   ]
  },
  {
   "cell_type": "code",
   "execution_count": 14,
   "metadata": {},
   "outputs": [],
   "source": [
    "#Reset index now that we have filtered data needed\n",
    "ny11 = clean_ny11.reset_index()\n",
    "ny12 = clean_ny12.reset_index()\n",
    "ny13 = clean_ny13.reset_index()\n",
    "ny14 = clean_ny14.reset_index()\n",
    "ny15 = clean_ny15.reset_index()\n",
    "ny16 = clean_ny16.reset_index()\n",
    "ny17 = clean_ny17.reset_index()"
   ]
  },
  {
   "cell_type": "code",
   "execution_count": 40,
   "metadata": {},
   "outputs": [
    {
     "data": {
      "text/html": [
       "<div>\n",
       "<style scoped>\n",
       "    .dataframe tbody tr th:only-of-type {\n",
       "        vertical-align: middle;\n",
       "    }\n",
       "\n",
       "    .dataframe tbody tr th {\n",
       "        vertical-align: top;\n",
       "    }\n",
       "\n",
       "    .dataframe thead th {\n",
       "        text-align: right;\n",
       "    }\n",
       "</style>\n",
       "<table border=\"1\" class=\"dataframe\">\n",
       "  <thead>\n",
       "    <tr style=\"text-align: right;\">\n",
       "      <th></th>\n",
       "      <th>ZIPCODE</th>\n",
       "      <th>Joint Returns</th>\n",
       "      <th>Dependents</th>\n",
       "      <th>Qualified Dividends</th>\n",
       "      <th>Total Itemized Deductions</th>\n",
       "      <th>State &amp; Local Tax Amount</th>\n",
       "      <th>Salaries &amp; Wages Amount</th>\n",
       "    </tr>\n",
       "  </thead>\n",
       "  <tbody>\n",
       "    <tr>\n",
       "      <th>0</th>\n",
       "      <td>10001</td>\n",
       "      <td>383.0</td>\n",
       "      <td>1078.0</td>\n",
       "      <td>992.0</td>\n",
       "      <td>6936.0</td>\n",
       "      <td>518.0</td>\n",
       "      <td>33282.0</td>\n",
       "    </tr>\n",
       "    <tr>\n",
       "      <th>1</th>\n",
       "      <td>10001</td>\n",
       "      <td>273.0</td>\n",
       "      <td>695.0</td>\n",
       "      <td>1253.0</td>\n",
       "      <td>9716.0</td>\n",
       "      <td>1758.0</td>\n",
       "      <td>80101.0</td>\n",
       "    </tr>\n",
       "  </tbody>\n",
       "</table>\n",
       "</div>"
      ],
      "text/plain": [
       "   ZIPCODE  Joint Returns  Dependents  Qualified Dividends  \\\n",
       "0    10001          383.0      1078.0                992.0   \n",
       "1    10001          273.0       695.0               1253.0   \n",
       "\n",
       "   Total Itemized Deductions  State & Local Tax Amount  \\\n",
       "0                     6936.0                     518.0   \n",
       "1                     9716.0                    1758.0   \n",
       "\n",
       "   Salaries & Wages Amount  \n",
       "0                  33282.0  \n",
       "1                  80101.0  "
      ]
     },
     "execution_count": 40,
     "metadata": {},
     "output_type": "execute_result"
    }
   ],
   "source": [
    "#dropped 'STATE'\n",
    "#ny11 = ny11.drop(columns=['STATE'])\n",
    "ny11.head(2)"
   ]
  },
  {
   "cell_type": "code",
   "execution_count": 41,
   "metadata": {},
   "outputs": [
    {
     "name": "stdout",
     "output_type": "stream",
     "text": [
      "(9276, 6) (9276, 1)\n"
     ]
    }
   ],
   "source": [
    "# Assign X (data) and y (target)\n",
    "X = ny11[['ZIPCODE','Joint Returns','Dependents','Qualified Dividends','Total Itemized Deductions','State & Local Tax Amount']]\n",
    "y = ny11[['Salaries & Wages Amount']]\n",
    "print(X.shape, y.shape)"
   ]
  },
  {
   "cell_type": "code",
   "execution_count": 42,
   "metadata": {},
   "outputs": [],
   "source": [
    "from sklearn.model_selection import train_test_split"
   ]
  },
  {
   "cell_type": "code",
   "execution_count": 43,
   "metadata": {},
   "outputs": [],
   "source": [
    "X_train, X_test, y_train, y_test = train_test_split(X, y, random_state=42)"
   ]
  },
  {
   "cell_type": "code",
   "execution_count": 44,
   "metadata": {},
   "outputs": [],
   "source": [
    "from sklearn.preprocessing import StandardScaler"
   ]
  },
  {
   "cell_type": "code",
   "execution_count": 45,
   "metadata": {},
   "outputs": [],
   "source": [
    "# Create a StandardScater model and fit it to the training data\n",
    "X_scaler = StandardScaler().fit(X_train)\n",
    "y_scaler = StandardScaler().fit(y_train)"
   ]
  },
  {
   "cell_type": "code",
   "execution_count": 46,
   "metadata": {},
   "outputs": [],
   "source": [
    "# Transform the training and testing data using the X_scaler and y_scaler models\n",
    "X_train_scaled = X_scaler.transform(X_train)\n",
    "X_test_scaled = X_scaler.transform(X_test)\n",
    "y_train_scaled = y_scaler.transform(y_train)\n",
    "y_test_scaled = y_scaler.transform(y_test)"
   ]
  },
  {
   "cell_type": "code",
   "execution_count": 47,
   "metadata": {},
   "outputs": [
    {
     "data": {
      "text/plain": [
       "LinearRegression(copy_X=True, fit_intercept=True, n_jobs=None, normalize=False)"
      ]
     },
     "execution_count": 47,
     "metadata": {},
     "output_type": "execute_result"
    }
   ],
   "source": [
    "# Create a LinearRegression model and fit it to the scaled training data\n",
    "from sklearn.linear_model import LinearRegression\n",
    "model = LinearRegression()\n",
    "model.fit(X_train_scaled, y_train_scaled)"
   ]
  },
  {
   "cell_type": "code",
   "execution_count": 48,
   "metadata": {},
   "outputs": [
    {
     "data": {
      "image/png": "[encoded data removed]",
      "text/plain": [
       "<Figure size 432x288 with 1 Axes>"
      ]
     },
     "metadata": {
      "needs_background": "light"
     },
     "output_type": "display_data"
    }
   ],
   "source": [
    "# Make predictions using the X_test_scaled data\n",
    "# Plot y_test_scaled vs y_test_scaled\n",
    "# Scatter plot y_test_scaled vs predictions\n",
    "predictions = model.predict(X_test_scaled)\n",
    "model.fit(X_train_scaled, y_train_scaled)\n",
    "plt.scatter(model.predict(X_train_scaled), model.predict(X_train_scaled) - y_train_scaled, c=\"blue\", label=\"Training Data\")\n",
    "plt.scatter(model.predict(X_test_scaled), model.predict(X_test_scaled) - y_test_scaled, c=\"orange\", label=\"Testing Data\")\n",
    "plt.legend()\n",
    "plt.hlines(y=0, xmin=y_test_scaled.min(), xmax=y_test_scaled.max())\n",
    "plt.title(\"Residual Plot\")\n",
    "plt.show()"
   ]
  },
  {
   "cell_type": "code",
   "execution_count": 49,
   "metadata": {},
   "outputs": [
    {
     "name": "stdout",
     "output_type": "stream",
     "text": [
      "MSE: 0.19833641722853804, R2: 0.928159220039678\n"
     ]
    }
   ],
   "source": [
    "from sklearn.metrics import mean_squared_error\n",
    "# Ridge model\n",
    "# Note: Use an alpha of .01 when creating the model for this activity\n",
    "from sklearn.linear_model import Ridge\n",
    "\n",
    "### BEGIN SOLUTION\n",
    "ridge = Ridge(alpha=.01).fit(X_train_scaled, y_train_scaled)\n",
    "\n",
    "predictions = ridge.predict(X_test_scaled)\n",
    "\n",
    "MSE = mean_squared_error(y_test_scaled, predictions)\n",
    "r2 = ridge.score(X_test_scaled, y_test_scaled)\n",
    "### END SOLUTION\n",
    "\n",
    "print(f\"MSE: {MSE}, R2: {r2}\")"
   ]
  },
  {
   "cell_type": "code",
   "execution_count": 50,
   "metadata": {},
   "outputs": [],
   "source": [
    "#---------WORKING ON DESCISION TREE TESTING BELOW--------"
   ]
  },
  {
   "cell_type": "code",
   "execution_count": 51,
   "metadata": {},
   "outputs": [],
   "source": [
    "import numpy as np\n",
    "from sklearn import tree\n",
    "import graphviz\n",
    "from sklearn.model_selection import cross_val_score"
   ]
  },
  {
   "cell_type": "code",
   "execution_count": 52,
   "metadata": {},
   "outputs": [],
   "source": [
    "# shuffle rows\n",
    "rand11 = ny11.sample(frac=1)"
   ]
  },
  {
   "cell_type": "code",
   "execution_count": 53,
   "metadata": {},
   "outputs": [
    {
     "data": {
      "text/html": [
       "<div>\n",
       "<style scoped>\n",
       "    .dataframe tbody tr th:only-of-type {\n",
       "        vertical-align: middle;\n",
       "    }\n",
       "\n",
       "    .dataframe tbody tr th {\n",
       "        vertical-align: top;\n",
       "    }\n",
       "\n",
       "    .dataframe thead th {\n",
       "        text-align: right;\n",
       "    }\n",
       "</style>\n",
       "<table border=\"1\" class=\"dataframe\">\n",
       "  <thead>\n",
       "    <tr style=\"text-align: right;\">\n",
       "      <th></th>\n",
       "      <th>ZIPCODE</th>\n",
       "      <th>Joint Returns</th>\n",
       "      <th>Dependents</th>\n",
       "      <th>Qualified Dividends</th>\n",
       "      <th>Total Itemized Deductions</th>\n",
       "      <th>State &amp; Local Tax Amount</th>\n",
       "      <th>Salaries &amp; Wages Amount</th>\n",
       "    </tr>\n",
       "  </thead>\n",
       "  <tbody>\n",
       "    <tr>\n",
       "      <th>4708</th>\n",
       "      <td>12827</td>\n",
       "      <td>143.0</td>\n",
       "      <td>119.0</td>\n",
       "      <td>229.0000</td>\n",
       "      <td>3133.0000</td>\n",
       "      <td>938.0000</td>\n",
       "      <td>14484.0</td>\n",
       "    </tr>\n",
       "    <tr>\n",
       "      <th>6616</th>\n",
       "      <td>13655</td>\n",
       "      <td>40.0</td>\n",
       "      <td>91.0</td>\n",
       "      <td>0.0001</td>\n",
       "      <td>0.0001</td>\n",
       "      <td>0.0001</td>\n",
       "      <td>5581.0</td>\n",
       "    </tr>\n",
       "  </tbody>\n",
       "</table>\n",
       "</div>"
      ],
      "text/plain": [
       "      ZIPCODE  Joint Returns  Dependents  Qualified Dividends  \\\n",
       "4708    12827          143.0       119.0             229.0000   \n",
       "6616    13655           40.0        91.0               0.0001   \n",
       "\n",
       "      Total Itemized Deductions  State & Local Tax Amount  \\\n",
       "4708                  3133.0000                  938.0000   \n",
       "6616                     0.0001                    0.0001   \n",
       "\n",
       "      Salaries & Wages Amount  \n",
       "4708                  14484.0  \n",
       "6616                   5581.0  "
      ]
     },
     "execution_count": 53,
     "metadata": {},
     "output_type": "execute_result"
    }
   ],
   "source": [
    "rand11.head(2)"
   ]
  },
  {
   "cell_type": "code",
   "execution_count": 54,
   "metadata": {},
   "outputs": [],
   "source": [
    "# split training and testing data\n",
    "d_train = rand11[:4638]\n",
    "d_test = rand11[4638:]"
   ]
  },
  {
   "cell_type": "code",
   "execution_count": 55,
   "metadata": {},
   "outputs": [],
   "source": [
    "d_train_att = d_train.drop(['Salaries & Wages Amount'], axis=1)\n",
    "d_train_gt50 = d_train['Salaries & Wages Amount']\n",
    "\n",
    "d_test_att = d_test.drop(['Salaries & Wages Amount'], axis=1)\n",
    "d_test_gt50 = d_test['Salaries & Wages Amount']\n",
    "\n",
    "d_att = rand11.drop(['Salaries & Wages Amount'], axis=1)\n",
    "d_gt50 = rand11['Salaries & Wages Amount']"
   ]
  },
  {
   "cell_type": "code",
   "execution_count": 56,
   "metadata": {},
   "outputs": [],
   "source": [
    "# Fit a decision tree\n",
    "#t = tree.DecisionTreeClassifier(criterion='entropy', max_depth=7)\n",
    "#t = t.fit(d_train_att, d_train_gt50)\n",
    "#Giving me error---> ValueError: Unknown label type: 'continuous'\n",
    "#trying to resolve below"
   ]
  },
  {
   "cell_type": "code",
   "execution_count": 57,
   "metadata": {},
   "outputs": [],
   "source": [
    "import numpy as np\n",
    "from sklearn                        import metrics, svm\n",
    "from sklearn.linear_model           import LogisticRegression\n",
    "from sklearn import preprocessing\n",
    "from sklearn import utils"
   ]
  },
  {
   "cell_type": "code",
   "execution_count": 58,
   "metadata": {},
   "outputs": [],
   "source": [
    "#clf = LogisticRegression()\n",
    "#clf.fit(d_train_att, d_train_gt50)"
   ]
  },
  {
   "cell_type": "code",
   "execution_count": 59,
   "metadata": {},
   "outputs": [
    {
     "name": "stdout",
     "output_type": "stream",
     "text": [
      "[1908 1026    1 ... 3809    1 2196]\n",
      "continuous\n",
      "multiclass\n",
      "multiclass\n"
     ]
    }
   ],
   "source": [
    "lab_enc = preprocessing.LabelEncoder()\n",
    "training_scores_encoded = lab_enc.fit_transform(d_train_gt50)\n",
    "print(training_scores_encoded)\n",
    "print(utils.multiclass.type_of_target(d_train_gt50))\n",
    "print(utils.multiclass.type_of_target(d_train_gt50.astype('int')))\n",
    "print(utils.multiclass.type_of_target(training_scores_encoded))"
   ]
  },
  {
   "cell_type": "code",
   "execution_count": 60,
   "metadata": {},
   "outputs": [
    {
     "name": "stderr",
     "output_type": "stream",
     "text": [
      "C:\\Users\\Maria\\Anaconda3\\lib\\site-packages\\sklearn\\linear_model\\logistic.py:432: FutureWarning: Default solver will be changed to 'lbfgs' in 0.22. Specify a solver to silence this warning.\n",
      "  FutureWarning)\n",
      "C:\\Users\\Maria\\Anaconda3\\lib\\site-packages\\sklearn\\linear_model\\logistic.py:469: FutureWarning: Default multi_class will be changed to 'auto' in 0.22. Specify the multi_class option to silence this warning.\n",
      "  \"this warning.\", FutureWarning)\n"
     ]
    },
    {
     "name": "stdout",
     "output_type": "stream",
     "text": [
      "LogisticRegression\n"
     ]
    },
    {
     "name": "stderr",
     "output_type": "stream",
     "text": [
      "C:\\Users\\Maria\\Anaconda3\\lib\\site-packages\\sklearn\\svm\\base.py:929: ConvergenceWarning: Liblinear failed to converge, increase the number of iterations.\n",
      "  \"the number of iterations.\", ConvergenceWarning)\n"
     ]
    },
    {
     "ename": "ValueError",
     "evalue": "X has 1 features per sample; expecting 6",
     "output_type": "error",
     "traceback": [
      "\u001b[1;31m---------------------------------------------------------------------------\u001b[0m",
      "\u001b[1;31mValueError\u001b[0m                                Traceback (most recent call last)",
      "\u001b[1;32m<ipython-input-60-0f60cdb75fcf>\u001b[0m in \u001b[0;36m<module>\u001b[1;34m\u001b[0m\n\u001b[0;32m      2\u001b[0m \u001b[0mclf\u001b[0m\u001b[1;33m.\u001b[0m\u001b[0mfit\u001b[0m\u001b[1;33m(\u001b[0m\u001b[0md_train_att\u001b[0m\u001b[1;33m,\u001b[0m \u001b[0mtraining_scores_encoded\u001b[0m\u001b[1;33m)\u001b[0m\u001b[1;33m\u001b[0m\u001b[1;33m\u001b[0m\u001b[0m\n\u001b[0;32m      3\u001b[0m \u001b[0mprint\u001b[0m\u001b[1;33m(\u001b[0m\u001b[1;34m\"LogisticRegression\"\u001b[0m\u001b[1;33m)\u001b[0m\u001b[1;33m\u001b[0m\u001b[1;33m\u001b[0m\u001b[0m\n\u001b[1;32m----> 4\u001b[1;33m \u001b[0mprint\u001b[0m\u001b[1;33m(\u001b[0m\u001b[0mclf\u001b[0m\u001b[1;33m.\u001b[0m\u001b[0mpredict\u001b[0m\u001b[1;33m(\u001b[0m\u001b[0mpredictions\u001b[0m\u001b[1;33m)\u001b[0m\u001b[1;33m)\u001b[0m\u001b[1;33m\u001b[0m\u001b[1;33m\u001b[0m\u001b[0m\n\u001b[0m",
      "\u001b[1;32m~\\Anaconda3\\lib\\site-packages\\sklearn\\linear_model\\base.py\u001b[0m in \u001b[0;36mpredict\u001b[1;34m(self, X)\u001b[0m\n\u001b[0;32m    287\u001b[0m             \u001b[0mPredicted\u001b[0m \u001b[1;32mclass\u001b[0m \u001b[0mlabel\u001b[0m \u001b[0mper\u001b[0m \u001b[0msample\u001b[0m\u001b[1;33m.\u001b[0m\u001b[1;33m\u001b[0m\u001b[1;33m\u001b[0m\u001b[0m\n\u001b[0;32m    288\u001b[0m         \"\"\"\n\u001b[1;32m--> 289\u001b[1;33m         \u001b[0mscores\u001b[0m \u001b[1;33m=\u001b[0m \u001b[0mself\u001b[0m\u001b[1;33m.\u001b[0m\u001b[0mdecision_function\u001b[0m\u001b[1;33m(\u001b[0m\u001b[0mX\u001b[0m\u001b[1;33m)\u001b[0m\u001b[1;33m\u001b[0m\u001b[1;33m\u001b[0m\u001b[0m\n\u001b[0m\u001b[0;32m    290\u001b[0m         \u001b[1;32mif\u001b[0m \u001b[0mlen\u001b[0m\u001b[1;33m(\u001b[0m\u001b[0mscores\u001b[0m\u001b[1;33m.\u001b[0m\u001b[0mshape\u001b[0m\u001b[1;33m)\u001b[0m \u001b[1;33m==\u001b[0m \u001b[1;36m1\u001b[0m\u001b[1;33m:\u001b[0m\u001b[1;33m\u001b[0m\u001b[1;33m\u001b[0m\u001b[0m\n\u001b[0;32m    291\u001b[0m             \u001b[0mindices\u001b[0m \u001b[1;33m=\u001b[0m \u001b[1;33m(\u001b[0m\u001b[0mscores\u001b[0m \u001b[1;33m>\u001b[0m \u001b[1;36m0\u001b[0m\u001b[1;33m)\u001b[0m\u001b[1;33m.\u001b[0m\u001b[0mastype\u001b[0m\u001b[1;33m(\u001b[0m\u001b[0mnp\u001b[0m\u001b[1;33m.\u001b[0m\u001b[0mint\u001b[0m\u001b[1;33m)\u001b[0m\u001b[1;33m\u001b[0m\u001b[1;33m\u001b[0m\u001b[0m\n",
      "\u001b[1;32m~\\Anaconda3\\lib\\site-packages\\sklearn\\linear_model\\base.py\u001b[0m in \u001b[0;36mdecision_function\u001b[1;34m(self, X)\u001b[0m\n\u001b[0;32m    268\u001b[0m         \u001b[1;32mif\u001b[0m \u001b[0mX\u001b[0m\u001b[1;33m.\u001b[0m\u001b[0mshape\u001b[0m\u001b[1;33m[\u001b[0m\u001b[1;36m1\u001b[0m\u001b[1;33m]\u001b[0m \u001b[1;33m!=\u001b[0m \u001b[0mn_features\u001b[0m\u001b[1;33m:\u001b[0m\u001b[1;33m\u001b[0m\u001b[1;33m\u001b[0m\u001b[0m\n\u001b[0;32m    269\u001b[0m             raise ValueError(\"X has %d features per sample; expecting %d\"\n\u001b[1;32m--> 270\u001b[1;33m                              % (X.shape[1], n_features))\n\u001b[0m\u001b[0;32m    271\u001b[0m \u001b[1;33m\u001b[0m\u001b[0m\n\u001b[0;32m    272\u001b[0m         scores = safe_sparse_dot(X, self.coef_.T,\n",
      "\u001b[1;31mValueError\u001b[0m: X has 1 features per sample; expecting 6"
     ]
    }
   ],
   "source": [
    "clf = LogisticRegression()\n",
    "clf.fit(d_train_att, training_scores_encoded)\n",
    "print(\"LogisticRegression\")\n",
    "print(clf.predict(predictions))"
   ]
  },
  {
   "cell_type": "code",
   "execution_count": 64,
   "metadata": {},
   "outputs": [],
   "source": [
    "sal_max = ny11['Salaries & Wages Amount'].max()"
   ]
  },
  {
   "cell_type": "code",
   "execution_count": null,
   "metadata": {},
   "outputs": [],
   "source": []
  },
  {
   "cell_type": "code",
   "execution_count": null,
   "metadata": {},
   "outputs": [],
   "source": []
  }
 ],
 "metadata": {
  "kernelspec": {
   "display_name": "Python 3",
   "language": "python",
   "name": "python3"
  },
  "language_info": {
   "codemirror_mode": {
    "name": "ipython",
    "version": 3
   },
   "file_extension": ".py",
   "mimetype": "text/x-python",
   "name": "python",
   "nbconvert_exporter": "python",
   "pygments_lexer": "ipython3",
   "version": "3.7.3"
  }
 },
 "nbformat": 4,
 "nbformat_minor": 2
}
